{
 "cells": [
  {
   "cell_type": "code",
   "execution_count": 1,
   "metadata": {},
   "outputs": [],
   "source": [
    "import os\n",
    "import numpy as np\n",
    "\n",
    "\n",
    "def read_embeddings(root, filename, file_format, dt, size, input_d):\n",
    "    fn = f\"{root}/{filename}\"\n",
    "    assert os.path.exists(fn)\n",
    "    if file_format == \"raw\":\n",
    "        fl = os.path.getsize(fn)\n",
    "        nb = fl // input_d // dt.itemsize\n",
    "        assert nb == size\n",
    "        assert fl == input_d * dt.itemsize * nb\n",
    "        return np.memmap(fn, shape=(nb, input_d), dtype=dt, mode=\"r\")\n",
    "    elif file_format == \"npy\":\n",
    "        vecs = np.load(fn, mmap_mode=\"r\")\n",
    "        assert vecs.shape[0] == size\n",
    "        assert vecs.shape[1] == input_d\n",
    "        assert vecs.dtype == dt\n",
    "        return vecs\n",
    "    else:\n",
    "        assert False"
   ]
  },
  {
   "cell_type": "code",
   "execution_count": 2,
   "metadata": {},
   "outputs": [
    {
     "data": {
      "text/plain": [
       "(18000000, 1024)"
      ]
     },
     "execution_count": 2,
     "metadata": {},
     "output_type": "execute_result"
    }
   ],
   "source": [
    "import numpy as np\n",
    "root = \"/checkpoint/gsz/seamless/sonar/eng0\"\n",
    "my_root = \"/checkpoint/marialomeli/data\"\n",
    "filename = \"encf.001.eng0\"\n",
    "format = \"npy\"\n",
    "dt = np.dtype(np.float16)\n",
    "fn = f\"{root}/{filename}\"\n",
    "os.path.exists(f\"{root}/{filename}\")\n",
    "vecs= read_embeddings(root,filename,'raw',dt,49_980_578,1024)\n",
    "vecs.shape\n",
    "sample_size=18_000_000\n",
    "query_sample = vecs[:sample_size,:]\n",
    "query_sample.shape"
   ]
  },
  {
   "cell_type": "code",
   "execution_count": 3,
   "metadata": {},
   "outputs": [],
   "source": [
    "new_fn= f\"{my_root}/eng0_query_sample.npy\"\n",
    "np.save(new_fn,query_sample)"
   ]
  },
  {
   "cell_type": "code",
   "execution_count": 6,
   "metadata": {},
   "outputs": [
    {
     "data": {
      "text/plain": [
       "True"
      ]
     },
     "execution_count": 6,
     "metadata": {},
     "output_type": "execute_result"
    }
   ],
   "source": [
    "query_sample.dtype==np.float16"
   ]
  },
  {
   "cell_type": "code",
   "execution_count": null,
   "metadata": {},
   "outputs": [],
   "source": []
  }
 ],
 "metadata": {
  "kernelspec": {
   "display_name": "Python 3.10.11 64-bit ('oivf')",
   "language": "python",
   "name": "python3"
  },
  "language_info": {
   "codemirror_mode": {
    "name": "ipython",
    "version": 3
   },
   "file_extension": ".py",
   "mimetype": "text/x-python",
   "name": "python",
   "nbconvert_exporter": "python",
   "pygments_lexer": "ipython3",
   "version": "3.10.11"
  },
  "orig_nbformat": 4,
  "vscode": {
   "interpreter": {
    "hash": "1e91759c4c710c9a4da508991de94b5ad8f6818604e6203c49e9cb7f21d9121a"
   }
  }
 },
 "nbformat": 4,
 "nbformat_minor": 2
}
