{
 "cells": [
  {
   "cell_type": "code",
   "execution_count": 3,
   "metadata": {},
   "outputs": [],
   "source": [
    "import numpy as np\n",
    "import sys\n",
    "\n",
    "sys.path.append(\"/private/home/marialomeli/faiss_improvements/offline_ivf/\")\n",
    "from tests.testing_utils import TestDataCreator\n",
    "\n",
    "# Test data creation for unit test\n",
    "DIMENSION: int = 8\n",
    "INDEX_FACTORY: str = \"OPQ4,IVF256,PQ4\"\n",
    "training_sample = 9984\n",
    "NUM_FILES: int = 3\n",
    "FILE_SIZE: int = 10000\n",
    "NPROBE: int = 2\n",
    "K: int = 2\n",
    "METRIC: str = \"METRIC_L2\"\n",
    "TMPDIR = \"/private/home/marialomeli/faiss_improvements/offline_ivf/\"\n",
    "FLOAT16: str = \"float16\"\n",
    "\n",
    "data_creator = TestDataCreator(\n",
    "    TMPDIR,\n",
    "    DIMENSION,\n",
    "    data_type=FLOAT16,\n",
    "    nprobe=NPROBE,\n",
    "    metric=METRIC,\n",
    "    k=K,\n",
    "    num_files=NUM_FILES,\n",
    "    file_size=FILE_SIZE,\n",
    "    normalise=True,\n",
    "    with_queries_ds=True,\n",
    ")\n",
    "data_creator.create_test_data()"
   ]
  },
  {
   "cell_type": "code",
   "execution_count": 2,
   "metadata": {},
   "outputs": [
    {
     "data": {
      "text/plain": [
       "{'files': [{'dtype': 'float16',\n",
       "   'format': 'npy',\n",
       "   'name': 'my_q_data00.npy',\n",
       "   'size': 10000},\n",
       "  {'dtype': 'float16',\n",
       "   'format': 'npy',\n",
       "   'name': 'my_q_data01.npy',\n",
       "   'size': 10000},\n",
       "  {'dtype': 'float16',\n",
       "   'format': 'npy',\n",
       "   'name': 'my_q_data02.npy',\n",
       "   'size': 10000}],\n",
       " 'root': '/private/home/marialomeli/faiss_improvements/offline_ivf/',\n",
       " 'size': 30000}"
      ]
     },
     "execution_count": 2,
     "metadata": {},
     "output_type": "execute_result"
    }
   ],
   "source": [
    "import sys\n",
    "\n",
    "sys.path.append(\"/private/home/marialomeli/faiss_improvements/offline_ivf/\")\n",
    "from utils import load_config\n",
    "\n",
    "cfg = load_config(\"/private/home/marialomeli/faiss_improvements/offline_ivf\" + \"/config_test.yaml\")\n",
    "cfg[\"datasets\"][\"my_queries_data\"]"
   ]
  },
  {
   "cell_type": "code",
   "execution_count": null,
   "metadata": {},
   "outputs": [],
   "source": [
    "# Create test objects:\n",
    "# python3 run.py  --command train_index  --config config_unittest.yaml --xb goku_lang\n",
    "# python3 run.py  --command index_shard  --config config_unittest.yaml --xb goku_lang"
   ]
  },
  {
   "cell_type": "code",
   "execution_count": 4,
   "metadata": {},
   "outputs": [
    {
     "name": "stdout",
     "output_type": "stream",
     "text": [
      "/data/home/marialomeli/faiss_improvements/offline_ivf/my_test_data/my_data00.npy\n",
      "/data/home/marialomeli/faiss_improvements/offline_ivf/my_test_data/my_data01.npy\n",
      "/data/home/marialomeli/faiss_improvements/offline_ivf/my_test_data/my_data02.npy\n"
     ]
    }
   ],
   "source": [
    "import numpy as np\n",
    "\n",
    "# create test_data with padding in name\n",
    "root = \"/data/home/marialomeli/faiss_improvements/offline_ivf/my_test_data\"\n",
    "dimension = 8  # dimensions of each vector\n",
    "n = 10000  # number of vectors\n",
    "for i in range(3):\n",
    "    np.random.seed(i+200)\n",
    "    db_vectors = np.random.random((n, dimension)).astype(\"float32\")\n",
    "    filename = root + f\"/my_data{i:02}\" + \".npy\"\n",
    "    print(filename)\n",
    "    np.save(filename, db_vectors)"
   ]
  },
  {
   "cell_type": "code",
   "execution_count": 1,
   "metadata": {},
   "outputs": [
    {
     "name": "stdout",
     "output_type": "stream",
     "text": [
      "/private/home/marialomeli/faiss_improvements/offline_ivf/tests/test_data/embeds_bobo/my_data00.npy\n",
      "/private/home/marialomeli/faiss_improvements/offline_ivf/tests/test_data/embeds_bobo/my_data01.npy\n",
      "/private/home/marialomeli/faiss_improvements/offline_ivf/tests/test_data/embeds_bobo/my_data02.npy\n",
      "/private/home/marialomeli/faiss_improvements/offline_ivf/tests/test_data/embeds_bobo/my_data03.npy\n"
     ]
    }
   ],
   "source": [
    "#bobo_lang\n",
    "import numpy as np\n",
    "\n",
    "# create test_data with padding in name\n",
    "root = \"/private/home/marialomeli/faiss_improvements/offline_ivf/tests/test_data/embeds_bobo\"\n",
    "dimension = 8  # dimensions of each vector\n",
    "n = 40000  # number of vectors\n",
    "for i in range(4):\n",
    "    np.random.seed(i+200)\n",
    "    db_vectors = np.random.random((n, dimension)).astype(\"float32\")\n",
    "    filename = root + f\"/my_data{i:02}\" + \".npy\"\n",
    "    print(filename)\n",
    "    np.save(filename, db_vectors)"
   ]
  },
  {
   "cell_type": "code",
   "execution_count": null,
   "metadata": {},
   "outputs": [],
   "source": []
  }
 ],
 "metadata": {
  "kernelspec": {
   "display_name": "Python 3.10.11 64-bit ('oivf')",
   "language": "python",
   "name": "python3"
  },
  "language_info": {
   "codemirror_mode": {
    "name": "ipython",
    "version": 3
   },
   "file_extension": ".py",
   "mimetype": "text/x-python",
   "name": "python",
   "nbconvert_exporter": "python",
   "pygments_lexer": "ipython3",
   "version": "3.10.11"
  },
  "vscode": {
   "interpreter": {
    "hash": "1e91759c4c710c9a4da508991de94b5ad8f6818604e6203c49e9cb7f21d9121a"
   }
  }
 },
 "nbformat": 4,
 "nbformat_minor": 4
}
