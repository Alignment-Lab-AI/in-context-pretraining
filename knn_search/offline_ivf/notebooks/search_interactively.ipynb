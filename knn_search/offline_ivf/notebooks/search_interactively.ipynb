{
 "cells": [
  {
   "cell_type": "code",
   "execution_count": 1,
   "metadata": {},
   "outputs": [],
   "source": [
    "import numpy as np\n",
    "\n",
    "\n",
    "def create_random_query_vectors(n: int, dim: int) -> np.array:\n",
    "    np.random.seed(10)\n",
    "    return np.random.random((n, dim)).astype(\"float32\")"
   ]
  },
  {
   "cell_type": "code",
   "execution_count": 3,
   "metadata": {},
   "outputs": [
    {
     "data": {
      "text/plain": [
       "array([718308440,  34673346, 845852744, 696465940, 174246257, 902469333,\n",
       "       773728262, 573771304,  54156564, 577737765, 397655976, 170294204,\n",
       "       244156236, 460886246, 836614336, 430625858])"
      ]
     },
     "execution_count": 3,
     "metadata": {},
     "output_type": "execute_result"
    }
   ],
   "source": [
    "import faiss\n",
    "\n",
    "\n",
    "index_path = \"/checkpoint/marialomeli/offline_faiss/contriever/hcir-1tb/IVF32768_PQ256.faissindex\"\n",
    "index = faiss.read_index(index_path)\n",
    "index_ivf = faiss.extract_index_ivf(index)\n",
    "index_ivf.nprobe = 64\n",
    "k = 16\n",
    "dim = 768\n",
    "n_query_vectors = 100\n",
    "# replace the query vectors with the corresponding ones:\n",
    "query_vectors = create_random_query_vectors(n_query_vectors, dim)\n",
    "D, I = index.search(query_vectors, k)\n",
    "I[0, :]"
   ]
  },
  {
   "cell_type": "code",
   "execution_count": null,
   "metadata": {},
   "outputs": [],
   "source": []
  }
 ],
 "metadata": {
  "kernelspec": {
   "display_name": "Python 3.9.15 64-bit ('oivf_greg')",
   "language": "python",
   "name": "python3"
  },
  "language_info": {
   "codemirror_mode": {
    "name": "ipython",
    "version": 3
   },
   "file_extension": ".py",
   "mimetype": "text/x-python",
   "name": "python",
   "nbconvert_exporter": "python",
   "pygments_lexer": "ipython3",
   "version": "3.9.15"
  },
  "orig_nbformat": 4,
  "vscode": {
   "interpreter": {
    "hash": "f83b433cd6559bee66bd95aade90c8e2cb4c3529269f411c4ac95c0ac7fc2408"
   }
  }
 },
 "nbformat": 4,
 "nbformat_minor": 2
}
