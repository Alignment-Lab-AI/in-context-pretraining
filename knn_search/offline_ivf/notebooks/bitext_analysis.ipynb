{
 "cells": [
  {
   "cell_type": "code",
   "execution_count": 37,
   "id": "f9480fa8-b4c6-4f97-8556-664949cbd506",
   "metadata": {},
   "outputs": [],
   "source": [
    "#Baseline bitexts (PQ64)\n",
    "import pandas as pd\n",
    "\n",
    "finnish_PQ64 = pd.read_csv(\"/checkpoints/kevinheffernan/seamless/nmt.23h1.seamless-faiss/baseline/fin/eng0-fin.TH-1.TH-1.06.bitext.TH-1.TH-1.06.bitext.tsv.gz\",compression=\"gzip\",on_bad_lines=\"skip\", header=None,sep=\"\\t\",nrows=5_000_000)\n",
    "#hindu_PQ64 = pd.read_csv(\"checkpoints/kevinheffernan/seamless/nmt.23h1.seamless-faiss/baseline/hin/eng0-hin.TH-1.TH-1.09.bitext.TH-1.TH-1.09.bitext.tsv.gz\",compression=\"gzip\",on_bad_lines=\"skip\", header=0,sep=\"\\t\")\n",
    "finnish_PQ512 = pd.read_csv(\"/checkpoints/kevinheffernan/seamless/nmt.23h1.seamless-faiss/faiss/fin/eng0-fin.TH-1.TH-1.13.bitext.TH-1.TH-1.13.bitext.tsv.gz\",compression=\"gzip\",on_bad_lines=\"skip\",  header=None,sep=\"\\t\",nrows=5_000_000)\n"
   ]
  },
  {
   "cell_type": "code",
   "execution_count": 38,
   "id": "62536e20-cad3-449e-a98c-fc6e6ab2bf7d",
   "metadata": {},
   "outputs": [
    {
     "name": "stdout",
     "output_type": "stream",
     "text": [
      "count    5.000000e+06\n",
      "mean     1.189135e+00\n",
      "std      5.941186e-02\n",
      "min      1.141886e+00\n",
      "25%      1.151182e+00\n",
      "50%      1.166302e+00\n",
      "75%      1.200995e+00\n",
      "max      1.622480e+00\n",
      "Name: margin score, dtype: float64\n",
      "count    5.000000e+06\n",
      "mean     1.382495e+00\n",
      "std      1.706184e-01\n",
      "min      1.252658e+00\n",
      "25%      1.278338e+00\n",
      "50%      1.320269e+00\n",
      "75%      1.412912e+00\n",
      "max      3.209458e+00\n",
      "Name: margin score, dtype: float64\n"
     ]
    }
   ],
   "source": [
    "finnish_PQ64.columns=[\"margin score\",\"english\",\"finnish\"]\n",
    "print(finnish_PQ64[\"margin score\"].describe())\n",
    "finnish_PQ512.columns=[\"margin score\",\"english\",\"finnish\"]\n",
    "print(finnish_PQ512[\"margin score\"].describe())"
   ]
  },
  {
   "cell_type": "code",
   "execution_count": 38,
   "id": "9b4d9fd2-6aee-466a-8c26-37eee31b0e13",
   "metadata": {},
   "outputs": [
    {
     "name": "stdout",
     "output_type": "stream",
     "text": [
      "count    5.000000e+06\n",
      "mean     1.189135e+00\n",
      "std      5.941186e-02\n",
      "min      1.141886e+00\n",
      "25%      1.151182e+00\n",
      "50%      1.166302e+00\n",
      "75%      1.200995e+00\n",
      "max      1.622480e+00\n",
      "Name: margin score, dtype: float64\n",
      "count    5.000000e+06\n",
      "mean     1.382495e+00\n",
      "std      1.706184e-01\n",
      "min      1.252658e+00\n",
      "25%      1.278338e+00\n",
      "50%      1.320269e+00\n",
      "75%      1.412912e+00\n",
      "max      3.209458e+00\n",
      "Name: margin score, dtype: float64\n"
     ]
    }
   ],
   "source": [
    "finnish_PQ64.columns=[\"margin score\",\"english\",\"finnish\"]\n",
    "print(finnish_PQ64[\"margin score\"].describe())\n",
    "finnish_PQ512.columns=[\"margin score\",\"english\",\"finnish\"]\n",
    "print(finnish_PQ512[\"margin score\"].describe())"
   ]
  },
  {
   "cell_type": "code",
   "execution_count": 61,
   "id": "b2ba7e57-c455-4174-a47a-f7bd9cadb0e7",
   "metadata": {},
   "outputs": [],
   "source": [
    "stats_512=finnish_PQ512.groupby([\"finnish\"]).size().sort_values(ascending=False)"
   ]
  },
  {
   "cell_type": "code",
   "execution_count": 63,
   "id": "52fb6b93-82c3-4555-a779-fec59296ec17",
   "metadata": {},
   "outputs": [],
   "source": [
    "stats_64=finnish_PQ64.groupby([\"finnish\"]).size().sort_values(ascending=False)"
   ]
  },
  {
   "cell_type": "code",
   "execution_count": 94,
   "id": "5a718feb-041f-4658-9679-24ee707f7325",
   "metadata": {},
   "outputs": [],
   "source": [
    "\n",
    "finnish_counts_512=pd.DataFrame({'finnish':stats_512.index, 'something':stats_512.values})\n",
    "finnish_counts_64=pd.DataFrame({'finnish':stats_64.index, 'counts':stats_64.values})\n"
   ]
  },
  {
   "cell_type": "code",
   "execution_count": 95,
   "id": "147e8154-67aa-4253-bf00-ed1c5c60bffd",
   "metadata": {},
   "outputs": [
    {
     "data": {
      "text/plain": [
       "<Axes: ylabel='count'>"
      ]
     },
     "execution_count": 95,
     "metadata": {},
     "output_type": "execute_result"
    },
    {
     "data": {
      "image/png": "[encoded data removed]",
      "text/plain": [
       "<Figure size 640x480 with 1 Axes>"
      ]
     },
     "metadata": {},
     "output_type": "display_data"
    }
   ],
   "source": [
    "import seaborn as sns\n",
    "filtered =finnish_counts_512[finnish_counts_512[\"something\"]>2]\n",
    "\n",
    "sns.countplot(filtered[\"something\"])"
   ]
  },
  {
   "cell_type": "code",
   "execution_count": null,
   "id": "aab351e9-c00b-4449-8ac1-64e72d31c78c",
   "metadata": {},
   "outputs": [],
   "source": []
  },
  {
   "cell_type": "code",
   "execution_count": 19,
   "id": "e0b05086",
   "metadata": {},
   "outputs": [],
   "source": [
    "#newdf = finnish_PQ64.join(finnish_PQ512,on=[\"english\",\"finnish\"])\n",
    "new_df = pd.merge(finnish_PQ64, finnish_PQ512,  how='inner', left_on=[\"english\"], right_on = [\"english\"])"
   ]
  },
  {
   "cell_type": "code",
   "execution_count": 43,
   "id": "ddc0334a-3282-4a46-ae44-92aa13fb0b16",
   "metadata": {},
   "outputs": [
    {
     "data": {
      "text/plain": [
       "0.9399092"
      ]
     },
     "execution_count": 43,
     "metadata": {},
     "output_type": "execute_result"
    }
   ],
   "source": [
    "4699546/5000000"
   ]
  },
  {
   "cell_type": "code",
   "execution_count": 20,
   "id": "4078aa8d-612f-45a7-8c6b-c2b8c29ad8ca",
   "metadata": {},
   "outputs": [
    {
     "data": {
      "text/html": [
       "<div>\n",
       "<style scoped>\n",
       "    .dataframe tbody tr th:only-of-type {\n",
       "        vertical-align: middle;\n",
       "    }\n",
       "\n",
       "    .dataframe tbody tr th {\n",
       "        vertical-align: top;\n",
       "    }\n",
       "\n",
       "    .dataframe thead th {\n",
       "        text-align: right;\n",
       "    }\n",
       "</style>\n",
       "<table border=\"1\" class=\"dataframe\">\n",
       "  <thead>\n",
       "    <tr style=\"text-align: right;\">\n",
       "      <th></th>\n",
       "      <th>margin score_x</th>\n",
       "      <th>english</th>\n",
       "      <th>finnish_x</th>\n",
       "      <th>margin score_y</th>\n",
       "      <th>finnish_y</th>\n",
       "    </tr>\n",
       "  </thead>\n",
       "  <tbody>\n",
       "    <tr>\n",
       "      <th>0</th>\n",
       "      <td>1.622480</td>\n",
       "      <td>And him &amp; I are on a mountain top and we just ...</td>\n",
       "      <td>Ja hän ja minä olemme vuorenhuipulla, ja me va...</td>\n",
       "      <td>2.800282</td>\n",
       "      <td>Ja hän ja minä olemme vuorenhuipulla, ja me va...</td>\n",
       "    </tr>\n",
       "    <tr>\n",
       "      <th>1</th>\n",
       "      <td>1.606811</td>\n",
       "      <td>The best antidote I know of to the kind of dis...</td>\n",
       "      <td>Paras vastamyrkky minkä minä tiedän sellaisell...</td>\n",
       "      <td>2.791727</td>\n",
       "      <td>Paras vastamyrkky minkä minä tiedän sellaisell...</td>\n",
       "    </tr>\n",
       "    <tr>\n",
       "      <th>2</th>\n",
       "      <td>1.603561</td>\n",
       "      <td>Catherine Ann's messsage is that many of us th...</td>\n",
       "      <td>Catherine Ann'in viesti on, että monet meistä ...</td>\n",
       "      <td>2.728350</td>\n",
       "      <td>Catherine Ann'in viesti on, että monet meistä ...</td>\n",
       "    </tr>\n",
       "    <tr>\n",
       "      <th>3</th>\n",
       "      <td>1.602993</td>\n",
       "      <td>But like many other places all over the world,...</td>\n",
       "      <td>Mutta kuten monet muutkin paikat kaikkialla ma...</td>\n",
       "      <td>2.670596</td>\n",
       "      <td>Mutta kuten monet muutkin paikat kaikkialla ma...</td>\n",
       "    </tr>\n",
       "    <tr>\n",
       "      <th>4</th>\n",
       "      <td>1.598698</td>\n",
       "      <td>FOX (Russia) - an elite special unit of female...</td>\n",
       "      <td>FOX (Venäjä) - eliitti erityinen yksikkö naist...</td>\n",
       "      <td>2.724795</td>\n",
       "      <td>FOX (Venäjä) - eliitti erityinen yksikkö naist...</td>\n",
       "    </tr>\n",
       "    <tr>\n",
       "      <th>...</th>\n",
       "      <td>...</td>\n",
       "      <td>...</td>\n",
       "      <td>...</td>\n",
       "      <td>...</td>\n",
       "      <td>...</td>\n",
       "    </tr>\n",
       "    <tr>\n",
       "      <th>6092510</th>\n",
       "      <td>1.122526</td>\n",
       "      <td>When Jesus was forty days old, Mary and Joseph...</td>\n",
       "      <td>Neljäkymmentä päivää myöhemmin Joosef ja Maria...</td>\n",
       "      <td>1.244265</td>\n",
       "      <td>Neljäkymmentä päivää myöhemmin Joosef ja Maria...</td>\n",
       "    </tr>\n",
       "    <tr>\n",
       "      <th>6092511</th>\n",
       "      <td>1.122526</td>\n",
       "      <td>DILI-B1 The Diploma of the Italian Language \"F...</td>\n",
       "      <td>80 oppituntia valmistautumista kahden Diploma ...</td>\n",
       "      <td>1.264940</td>\n",
       "      <td>80 oppituntia valmistautumista kahden Diploma ...</td>\n",
       "    </tr>\n",
       "    <tr>\n",
       "      <th>6092512</th>\n",
       "      <td>1.122526</td>\n",
       "      <td>In Job 35:10 - 11, we read that man knows more...</td>\n",
       "      <td>Nyt tässä Jobin kirjan kohdassa kerrotaan, ett...</td>\n",
       "      <td>1.206857</td>\n",
       "      <td>Nyt tässä Jobin kirjan kohdassa kerrotaan, ett...</td>\n",
       "    </tr>\n",
       "    <tr>\n",
       "      <th>6092513</th>\n",
       "      <td>1.122526</td>\n",
       "      <td>But the recycling rate has been largely flat f...</td>\n",
       "      <td>Kierrätysprosentti on pysynyt samansuuruisena ...</td>\n",
       "      <td>1.229639</td>\n",
       "      <td>Kierrätysprosentti on pysynyt samansuuruisena ...</td>\n",
       "    </tr>\n",
       "    <tr>\n",
       "      <th>6092514</th>\n",
       "      <td>1.122526</td>\n",
       "      <td>That OSL became a defining moment in EffOrt's ...</td>\n",
       "      <td>KHO:n päätös oli siten menestyksekäs päätös Ef...</td>\n",
       "      <td>1.264613</td>\n",
       "      <td>KHO:n päätös oli siten menestyksekäs päätös Ef...</td>\n",
       "    </tr>\n",
       "  </tbody>\n",
       "</table>\n",
       "<p>6092515 rows × 5 columns</p>\n",
       "</div>"
      ],
      "text/plain": [
       "         margin score_x                                            english  \\\n",
       "0              1.622480  And him & I are on a mountain top and we just ...   \n",
       "1              1.606811  The best antidote I know of to the kind of dis...   \n",
       "2              1.603561  Catherine Ann's messsage is that many of us th...   \n",
       "3              1.602993  But like many other places all over the world,...   \n",
       "4              1.598698  FOX (Russia) - an elite special unit of female...   \n",
       "...                 ...                                                ...   \n",
       "6092510        1.122526  When Jesus was forty days old, Mary and Joseph...   \n",
       "6092511        1.122526  DILI-B1 The Diploma of the Italian Language \"F...   \n",
       "6092512        1.122526  In Job 35:10 - 11, we read that man knows more...   \n",
       "6092513        1.122526  But the recycling rate has been largely flat f...   \n",
       "6092514        1.122526  That OSL became a defining moment in EffOrt's ...   \n",
       "\n",
       "                                                 finnish_x  margin score_y  \\\n",
       "0        Ja hän ja minä olemme vuorenhuipulla, ja me va...        2.800282   \n",
       "1        Paras vastamyrkky minkä minä tiedän sellaisell...        2.791727   \n",
       "2        Catherine Ann'in viesti on, että monet meistä ...        2.728350   \n",
       "3        Mutta kuten monet muutkin paikat kaikkialla ma...        2.670596   \n",
       "4        FOX (Venäjä) - eliitti erityinen yksikkö naist...        2.724795   \n",
       "...                                                    ...             ...   \n",
       "6092510  Neljäkymmentä päivää myöhemmin Joosef ja Maria...        1.244265   \n",
       "6092511  80 oppituntia valmistautumista kahden Diploma ...        1.264940   \n",
       "6092512  Nyt tässä Jobin kirjan kohdassa kerrotaan, ett...        1.206857   \n",
       "6092513  Kierrätysprosentti on pysynyt samansuuruisena ...        1.229639   \n",
       "6092514  KHO:n päätös oli siten menestyksekäs päätös Ef...        1.264613   \n",
       "\n",
       "                                                 finnish_y  \n",
       "0        Ja hän ja minä olemme vuorenhuipulla, ja me va...  \n",
       "1        Paras vastamyrkky minkä minä tiedän sellaisell...  \n",
       "2        Catherine Ann'in viesti on, että monet meistä ...  \n",
       "3        Mutta kuten monet muutkin paikat kaikkialla ma...  \n",
       "4        FOX (Venäjä) - eliitti erityinen yksikkö naist...  \n",
       "...                                                    ...  \n",
       "6092510  Neljäkymmentä päivää myöhemmin Joosef ja Maria...  \n",
       "6092511  80 oppituntia valmistautumista kahden Diploma ...  \n",
       "6092512  Nyt tässä Jobin kirjan kohdassa kerrotaan, ett...  \n",
       "6092513  Kierrätysprosentti on pysynyt samansuuruisena ...  \n",
       "6092514  KHO:n päätös oli siten menestyksekäs päätös Ef...  \n",
       "\n",
       "[6092515 rows x 5 columns]"
      ]
     },
     "execution_count": 20,
     "metadata": {},
     "output_type": "execute_result"
    }
   ],
   "source": [
    "new_df"
   ]
  },
  {
   "cell_type": "code",
   "execution_count": 22,
   "id": "9eebf2b0-41bc-4abe-8f87-e99391b7fae7",
   "metadata": {},
   "outputs": [],
   "source": [
    " filtered=new_df[new_df['finnish_x'] != new_df['finnish_y']]"
   ]
  },
  {
   "cell_type": "code",
   "execution_count": 35,
   "id": "5b15e19c-95a9-4774-9555-8d5b53d052e3",
   "metadata": {},
   "outputs": [
    {
     "data": {
      "text/html": [
       "<div>\n",
       "<style scoped>\n",
       "    .dataframe tbody tr th:only-of-type {\n",
       "        vertical-align: middle;\n",
       "    }\n",
       "\n",
       "    .dataframe tbody tr th {\n",
       "        vertical-align: top;\n",
       "    }\n",
       "\n",
       "    .dataframe thead th {\n",
       "        text-align: right;\n",
       "    }\n",
       "</style>\n",
       "<table border=\"1\" class=\"dataframe\">\n",
       "  <thead>\n",
       "    <tr style=\"text-align: right;\">\n",
       "      <th></th>\n",
       "      <th>margin score_x</th>\n",
       "      <th>english</th>\n",
       "      <th>finnish_x</th>\n",
       "      <th>margin score_y</th>\n",
       "      <th>finnish_y</th>\n",
       "    </tr>\n",
       "  </thead>\n",
       "  <tbody>\n",
       "    <tr>\n",
       "      <th>94</th>\n",
       "      <td>1.567266</td>\n",
       "      <td>Sadly, the insurance companies here in Michiga...</td>\n",
       "      <td>Valitettavasti Michiganissa sijaitsevat vakuut...</td>\n",
       "      <td>1.263526</td>\n",
       "      <td>No viime viikolla sain hieman shokki, kun minu...</td>\n",
       "    </tr>\n",
       "    <tr>\n",
       "      <th>95</th>\n",
       "      <td>1.182666</td>\n",
       "      <td>Sadly, the insurance companies here in Michiga...</td>\n",
       "      <td>No viime viikolla sain hieman shokki, kun minu...</td>\n",
       "      <td>2.372352</td>\n",
       "      <td>Valitettavasti Michiganissa sijaitsevat vakuut...</td>\n",
       "    </tr>\n",
       "    <tr>\n",
       "      <th>99</th>\n",
       "      <td>1.133870</td>\n",
       "      <td>According to an article on Inc, Sabetian didn'...</td>\n",
       "      <td>Inc: n artikkelin mukaan Sabetian aloitti ensi...</td>\n",
       "      <td>2.743185</td>\n",
       "      <td>Inc: n artikkelin mukaan Sabetian ei halunnut ...</td>\n",
       "    </tr>\n",
       "    <tr>\n",
       "      <th>151</th>\n",
       "      <td>1.560399</td>\n",
       "      <td>In short, what God had given men and angels Lu...</td>\n",
       "      <td>Lyhyesti sanottuna, mitä Jumala oli antanut ih...</td>\n",
       "      <td>2.271889</td>\n",
       "      <td>[s.615:1_54:2.4] Lyhyesti sanottuna, mitä Juma...</td>\n",
       "    </tr>\n",
       "    <tr>\n",
       "      <th>152</th>\n",
       "      <td>1.560399</td>\n",
       "      <td>In short, what God had given men and angels Lu...</td>\n",
       "      <td>Lyhyesti sanottuna, mitä Jumala oli antanut ih...</td>\n",
       "      <td>2.225545</td>\n",
       "      <td>(615.1) 54:2.4 Lyhyesti sanottuna, mitä Jumal...</td>\n",
       "    </tr>\n",
       "    <tr>\n",
       "      <th>...</th>\n",
       "      <td>...</td>\n",
       "      <td>...</td>\n",
       "      <td>...</td>\n",
       "      <td>...</td>\n",
       "      <td>...</td>\n",
       "    </tr>\n",
       "    <tr>\n",
       "      <th>6092463</th>\n",
       "      <td>1.122526</td>\n",
       "      <td>Professor Matti Tolvanen, Professor of Crimina...</td>\n",
       "      <td>Itä-Suomen yliopiston rikos- ja prosessioikeud...</td>\n",
       "      <td>1.206590</td>\n",
       "      <td>Itä-Suomen yliopiston rikos- ja prosessioikeud...</td>\n",
       "    </tr>\n",
       "    <tr>\n",
       "      <th>6092464</th>\n",
       "      <td>1.122526</td>\n",
       "      <td>Professor Matti Tolvanen, Professor of Crimina...</td>\n",
       "      <td>Itä-Suomen yliopiston rikos- ja prosessioikeud...</td>\n",
       "      <td>1.202981</td>\n",
       "      <td>Itä-Suomen yliopiston rikos- ja prosessioikeud...</td>\n",
       "    </tr>\n",
       "    <tr>\n",
       "      <th>6092467</th>\n",
       "      <td>1.122526</td>\n",
       "      <td>The movie follows Danish army commander Claus ...</td>\n",
       "      <td>Elokuvan päähenkilöitä ovat komppanianjohtaja ...</td>\n",
       "      <td>1.208000</td>\n",
       "      <td>Keskushenkilöksi nousee vänrikki (sekondløjtna...</td>\n",
       "    </tr>\n",
       "    <tr>\n",
       "      <th>6092475</th>\n",
       "      <td>1.122526</td>\n",
       "      <td>Chapter-ending summaries, glossary terms, and ...</td>\n",
       "      <td>Lukujen lopussa olevat yhteenvedot, lukujen av...</td>\n",
       "      <td>1.207292</td>\n",
       "      <td>Lukujan lopussa olevat yhteenvedot, lukujen av...</td>\n",
       "    </tr>\n",
       "    <tr>\n",
       "      <th>6092490</th>\n",
       "      <td>1.122526</td>\n",
       "      <td>The approximately 20-page book has been dated ...</td>\n",
       "      <td>Irlannista löydettiin vuonna 2006 tuhatvuotias...</td>\n",
       "      <td>1.351610</td>\n",
       "      <td>Noin 20-sivuisen latinankielisen kirjan arvioi...</td>\n",
       "    </tr>\n",
       "  </tbody>\n",
       "</table>\n",
       "<p>1107070 rows × 5 columns</p>\n",
       "</div>"
      ],
      "text/plain": [
       "         margin score_x                                            english  \\\n",
       "94             1.567266  Sadly, the insurance companies here in Michiga...   \n",
       "95             1.182666  Sadly, the insurance companies here in Michiga...   \n",
       "99             1.133870  According to an article on Inc, Sabetian didn'...   \n",
       "151            1.560399  In short, what God had given men and angels Lu...   \n",
       "152            1.560399  In short, what God had given men and angels Lu...   \n",
       "...                 ...                                                ...   \n",
       "6092463        1.122526  Professor Matti Tolvanen, Professor of Crimina...   \n",
       "6092464        1.122526  Professor Matti Tolvanen, Professor of Crimina...   \n",
       "6092467        1.122526  The movie follows Danish army commander Claus ...   \n",
       "6092475        1.122526  Chapter-ending summaries, glossary terms, and ...   \n",
       "6092490        1.122526  The approximately 20-page book has been dated ...   \n",
       "\n",
       "                                                 finnish_x  margin score_y  \\\n",
       "94       Valitettavasti Michiganissa sijaitsevat vakuut...        1.263526   \n",
       "95       No viime viikolla sain hieman shokki, kun minu...        2.372352   \n",
       "99       Inc: n artikkelin mukaan Sabetian aloitti ensi...        2.743185   \n",
       "151      Lyhyesti sanottuna, mitä Jumala oli antanut ih...        2.271889   \n",
       "152      Lyhyesti sanottuna, mitä Jumala oli antanut ih...        2.225545   \n",
       "...                                                    ...             ...   \n",
       "6092463  Itä-Suomen yliopiston rikos- ja prosessioikeud...        1.206590   \n",
       "6092464  Itä-Suomen yliopiston rikos- ja prosessioikeud...        1.202981   \n",
       "6092467  Elokuvan päähenkilöitä ovat komppanianjohtaja ...        1.208000   \n",
       "6092475  Lukujen lopussa olevat yhteenvedot, lukujen av...        1.207292   \n",
       "6092490  Irlannista löydettiin vuonna 2006 tuhatvuotias...        1.351610   \n",
       "\n",
       "                                                 finnish_y  \n",
       "94       No viime viikolla sain hieman shokki, kun minu...  \n",
       "95       Valitettavasti Michiganissa sijaitsevat vakuut...  \n",
       "99       Inc: n artikkelin mukaan Sabetian ei halunnut ...  \n",
       "151      [s.615:1_54:2.4] Lyhyesti sanottuna, mitä Juma...  \n",
       "152       (615.1) 54:2.4 Lyhyesti sanottuna, mitä Jumal...  \n",
       "...                                                    ...  \n",
       "6092463  Itä-Suomen yliopiston rikos- ja prosessioikeud...  \n",
       "6092464  Itä-Suomen yliopiston rikos- ja prosessioikeud...  \n",
       "6092467  Keskushenkilöksi nousee vänrikki (sekondløjtna...  \n",
       "6092475  Lukujan lopussa olevat yhteenvedot, lukujen av...  \n",
       "6092490  Noin 20-sivuisen latinankielisen kirjan arvioi...  \n",
       "\n",
       "[1107070 rows x 5 columns]"
      ]
     },
     "execution_count": 35,
     "metadata": {},
     "output_type": "execute_result"
    }
   ],
   "source": [
    "filtered"
   ]
  },
  {
   "cell_type": "code",
   "execution_count": null,
   "id": "21183c11-0288-403f-bb64-5fb2b457e263",
   "metadata": {},
   "outputs": [],
   "source": []
  }
 ],
 "metadata": {
  "kernelspec": {
   "display_name": "Python [conda env:oivf] *",
   "language": "python",
   "name": "conda-env-oivf-py"
  },
  "language_info": {
   "codemirror_mode": {
    "name": "ipython",
    "version": 3
   },
   "file_extension": ".py",
   "mimetype": "text/x-python",
   "name": "python",
   "nbconvert_exporter": "python",
   "pygments_lexer": "ipython3",
   "version": "3.10.11"
  },
  "vscode": {
   "interpreter": {
    "hash": "fc35dcae477e7a2fbfe9b122f46ec216aee8ca642c0404cecf666d6f203bd641"
   }
  }
 },
 "nbformat": 4,
 "nbformat_minor": 5
}
