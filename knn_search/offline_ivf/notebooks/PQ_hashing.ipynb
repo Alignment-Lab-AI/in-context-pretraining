{
 "cells": [
  {
   "cell_type": "code",
   "execution_count": 6,
   "metadata": {},
   "outputs": [],
   "source": [
    "import numpy as np\n",
    "\n",
    "\n",
    "def create_random_vectors(n: int, dim: int) -> np.array:\n",
    "    np.random.seed(10)\n",
    "    return np.random.random((n, dim)).astype(\"float32\")"
   ]
  },
  {
   "cell_type": "code",
   "execution_count": 7,
   "metadata": {},
   "outputs": [
    {
     "name": "stdout",
     "output_type": "stream",
     "text": [
      "[1, 768, 2, 384, 3, 256, 4, 192, 6, 128, 8, 96, 12, 64, 16, 48, 24, 32]\n",
      "[[236 148 122 ... 201 245  99]\n",
      " [ 32 187 178 ... 148 215 250]\n",
      " [ 23 156  92 ...  39 228 244]\n",
      " ...\n",
      " [146 138   8 ...  50 236  98]\n",
      " [ 18  88  96 ... 148 135 105]\n",
      " [225 214  41 ... 100 226  65]]\n"
     ]
    }
   ],
   "source": [
    "import faiss\n",
    "import sys \n",
    "sys.path.append(\"/private/home/marialomeli/faiss_improvements/offline_ivf/\")\n",
    "from utils import find_all_divisors\n",
    "# The input vector x is split into m distinct subvectors uj , 1 ≤ j ≤ m of dimension D∗ = D/m, \n",
    "# where D is a multiple of m. The subvectors are quantized separately using m distinct quantizers.\n",
    "\n",
    "nb = 10000\n",
    "dim = 768\n",
    "xb=create_random_vectors(nb,dim)\n",
    "# nbits has to be a divisor of the vector's dimensionality\n",
    "all_nbits=find_all_divisors(dim)\n",
    "print(all_nbits)\n",
    "all_nbits_subset = [16]\n",
    "for nbits in all_nbits_subset:\n",
    "    codec = faiss.index_factory(dim, f\"PQ{nbits}\")\n",
    "    codec.train(xb)\n",
    "\n",
    "nq=100\n",
    "#query vectors\n",
    "xq=create_random_vectors(nq,dim)\n",
    "# encode \n",
    "codes = codec.sa_encode(xq)\n",
    "\n",
    "print(codes)"
   ]
  }
 ],
 "metadata": {
  "kernelspec": {
   "display_name": "Python 3.10.12 64-bit ('oivf_nightly_latest')",
   "language": "python",
   "name": "python3"
  },
  "language_info": {
   "codemirror_mode": {
    "name": "ipython",
    "version": 3
   },
   "file_extension": ".py",
   "mimetype": "text/x-python",
   "name": "python",
   "nbconvert_exporter": "python",
   "pygments_lexer": "ipython3",
   "version": "3.10.12"
  },
  "orig_nbformat": 4,
  "vscode": {
   "interpreter": {
    "hash": "795b4a13ede829fb442f4f6b7c5cb2dd62ba7455f4ab5a0f2faabf5c3351e4cb"
   }
  }
 },
 "nbformat": 4,
 "nbformat_minor": 2
}
