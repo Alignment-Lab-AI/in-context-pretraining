{
 "cells": [
  {
   "cell_type": "code",
   "execution_count": 11,
   "metadata": {},
   "outputs": [],
   "source": [
    "\n",
    "# refined distances calculation\n",
    "import faiss\n",
    "def _refine_distances(xq_ds, idx, xb_ds, I,k,metric):\n",
    "        xq = xq_ds.get(idx).repeat(k, axis=0)\n",
    "        xb = xb_ds.get(I.reshape(-1))\n",
    "        if metric == faiss.METRIC_INNER_PRODUCT:\n",
    "            return (xq * xb).sum(axis=1).reshape(I.shape)\n",
    "        elif metric == faiss.METRIC_L2:\n",
    "            return ((xq - xb) ** 2).sum(axis=1).reshape(I.shape)\n",
    "        else:\n",
    "            raise ValueError(f\"metric not supported {metric}\")\n"
   ]
  },
  {
   "cell_type": "code",
   "execution_count": 13,
   "metadata": {},
   "outputs": [
    {
     "data": {
      "text/plain": [
       "array([[   -1,    -1],\n",
       "       [   -1,    -1],\n",
       "       [18237, 29647],\n",
       "       [   -1,    -1],\n",
       "       [29580, 11368],\n",
       "       [   -1,    -1],\n",
       "       [   -1,    -1],\n",
       "       [   -1,    -1],\n",
       "       [ 7786,  3227],\n",
       "       [10255, 20138]])"
      ]
     },
     "execution_count": 13,
     "metadata": {},
     "output_type": "execute_result"
    }
   ],
   "source": [
    "# python3 run.py --command evaluate --config config_unittest.yaml --xb coco_lang --xq goku_lang \n",
    "import sys\n",
    "\n",
    "sys.path.append(\"/private/home/marialomeli/faiss_improvements/offline_ivf/\")\n",
    "from utils import load_config\n",
    "from dataset import create_dataset_from_oivf_config\n",
    "import numpy as np\n",
    "class Object(object):\n",
    "    pass\n",
    "cfg = load_config(\"/private/home/marialomeli/faiss_improvements/offline_ivf\" + \"/config_unittest.yaml\")\n",
    "self = Object()\n",
    "# self.root = '/scratch/gsz/seamless/oivf'\n",
    "self.root = \"/private/home/marialomeli/faiss_improvements/offline_ivf/tests/test_data\"\n",
    "\n",
    "self.eval_dir = self.root + \"/goku_lang_in_coco_lang/eval\"\n",
    "self.index_factory_fn = cfg[\"index\"][\"prod\"]\n",
    "self.nprobe = cfg[\"nprobe\"][\"prod\"]\n",
    "self.k = cfg[\"k\"]\n",
    "self.metric = cfg[\"metric\"]\n",
    "I_a_ann = np.load(self.eval_dir+\"/I_a_ann_OPQ4_IVF256_PQ4_np2.npy\")\n",
    "\n",
    "self.xq_ds = create_dataset_from_oivf_config(cfg,\"goku_lang\")\n",
    "self.xb_ds = create_dataset_from_oivf_config(cfg,\"coco_lang\")\n",
    "idx_a = np.load(self.eval_dir+\"/idx_a.npy\")\n",
    "idx_a\n",
    "I_a_ann[:10,]\n",
    "#D_a_ann_refined = _refine_distances(self.xq_ds, idx_a, self.xb_ds, I_a_ann,self.k,faiss.METRIC_L2)"
   ]
  },
  {
   "cell_type": "code",
   "execution_count": 9,
   "metadata": {},
   "outputs": [
    {
     "data": {
      "text/plain": [
       "array([[0.0652544 , 0.12947224],\n",
       "       [0.02952097, 0.06808341],\n",
       "       [0.0934061 , 0.08538042],\n",
       "       [0.06198333, 0.08373729],\n",
       "       [0.05951791, 0.07040385],\n",
       "       [0.03912928, 0.06485844],\n",
       "       [0.09571987, 0.0804907 ],\n",
       "       [0.05539767, 0.04808123],\n",
       "       [0.04487   , 0.09408781],\n",
       "       [0.04513822, 0.05732442],\n",
       "       [0.07468422, 0.06742606],\n",
       "       [0.09897658, 0.11005229],\n",
       "       [0.05      , 0.07084642],\n",
       "       [0.05911131, 0.05821372],\n",
       "       [0.08761284, 0.08724706],\n",
       "       [0.07609091, 0.07267965],\n",
       "       [0.06572562, 0.09638156],\n",
       "       [0.03914481, 0.0559928 ],\n",
       "       [0.0671391 , 0.06793108],\n",
       "       [0.07346898, 0.10121743],\n",
       "       [0.05885801, 0.08078897],\n",
       "       [0.03797341, 0.06807525],\n",
       "       [0.08974423, 0.06393065],\n",
       "       [0.0812999 , 0.07795068],\n",
       "       [0.05914135, 0.05397893],\n",
       "       [0.07023679, 0.08861698],\n",
       "       [0.05998095, 0.07408154],\n",
       "       [0.09624723, 0.06215914],\n",
       "       [0.03952349, 0.0806938 ],\n",
       "       [0.07509121, 0.09342497],\n",
       "       [0.05128418, 0.08272662],\n",
       "       [0.09598033, 0.08653574],\n",
       "       [0.03162051, 0.06416127],\n",
       "       [0.06815007, 0.08435657],\n",
       "       [0.03727488, 0.0546103 ],\n",
       "       [0.06140397, 0.08619484],\n",
       "       [0.08343242, 0.05495006],\n",
       "       [0.09498932, 0.09560862],\n",
       "       [0.02859121, 0.04236336],\n",
       "       [0.07303872, 0.10794604],\n",
       "       [0.04626517, 0.10745458],\n",
       "       [0.02205997, 0.06637481],\n",
       "       [0.03991809, 0.06720509],\n",
       "       [0.09227671, 0.0777939 ],\n",
       "       [0.05066187, 0.09028104],\n",
       "       [0.07629677, 0.1082481 ],\n",
       "       [0.09148014, 0.10465087],\n",
       "       [0.07832243, 0.06914821],\n",
       "       [0.04385135, 0.11390912],\n",
       "       [0.05030168, 0.08727187],\n",
       "       [0.05242779, 0.09004144],\n",
       "       [0.08878631, 0.07750272],\n",
       "       [0.07483731, 0.09086754],\n",
       "       [0.05455279, 0.09488738],\n",
       "       [0.04977994, 0.0718495 ],\n",
       "       [0.0209924 , 0.04660197],\n",
       "       [0.05811346, 0.096761  ],\n",
       "       [0.05399901, 0.11822147],\n",
       "       [0.05335006, 0.05954778],\n",
       "       [0.07603608, 0.07752459],\n",
       "       [0.08289656, 0.16183832],\n",
       "       [0.07477023, 0.05376246],\n",
       "       [0.07261214, 0.07389696],\n",
       "       [0.08322372, 0.06804724],\n",
       "       [0.06958567, 0.05716971],\n",
       "       [0.05188002, 0.07812943],\n",
       "       [0.06547743, 0.06030659],\n",
       "       [0.08206791, 0.11998488],\n",
       "       [0.06744538, 0.05308402],\n",
       "       [0.07065882, 0.08443726],\n",
       "       [0.05989368, 0.07904983],\n",
       "       [0.04994698, 0.06927638],\n",
       "       [0.07988428, 0.08494575],\n",
       "       [0.06523685, 0.10832672],\n",
       "       [0.07911768, 0.07267237],\n",
       "       [0.09388548, 0.10224953],\n",
       "       [0.04984393, 0.04604027],\n",
       "       [0.05791626, 0.0826522 ],\n",
       "       [0.10253914, 0.10767177],\n",
       "       [0.1195021 , 0.14566496],\n",
       "       [0.08169405, 0.08441636],\n",
       "       [0.03930193, 0.06003785],\n",
       "       [0.08059318, 0.06593466],\n",
       "       [0.07151005, 0.08509744],\n",
       "       [0.07799631, 0.10216233],\n",
       "       [0.03453127, 0.08305036],\n",
       "       [0.0430595 , 0.07172287],\n",
       "       [0.03720383, 0.11720873],\n",
       "       [0.05660345, 0.10573162],\n",
       "       [0.09736408, 0.1096042 ],\n",
       "       [0.02708342, 0.07228582],\n",
       "       [0.04311129, 0.0921744 ],\n",
       "       [0.04285634, 0.07673357],\n",
       "       [0.07792713, 0.10005817],\n",
       "       [0.0184071 , 0.03602251],\n",
       "       [0.0697161 , 0.06734108],\n",
       "       [0.09683143, 0.1205088 ],\n",
       "       [0.06151855, 0.107972  ],\n",
       "       [0.04714686, 0.09077667],\n",
       "       [0.03828013, 0.08675741]], dtype=float32)"
      ]
     },
     "execution_count": 9,
     "metadata": {},
     "output_type": "execute_result"
    }
   ],
   "source": [
    "D_a_ann_refined"
   ]
  },
  {
   "cell_type": "code",
   "execution_count": 9,
   "metadata": {},
   "outputs": [],
   "source": [
    "import faiss\n",
    "def _coarse_quantize(index_ivf, xq, nprobe):\n",
    "    assert nprobe <= index_ivf.quantizer.ntotal\n",
    "    quantizer = faiss.index_cpu_to_all_gpus(index_ivf.quantizer)\n",
    "    bs = 65536\n",
    "    nq = len(xq)\n",
    "    q_assign = np.empty((nq, nprobe), dtype=\"int32\")\n",
    "    for i0 in range(0, nq, bs):\n",
    "        i1 = min(nq, i0 + bs)\n",
    "        _, q_assign_i = quantizer.search(xq[i0:i1], nprobe)\n",
    "        q_assign[i0:i1] = q_assign_i\n",
    "    return q_assign\n"
   ]
  },
  {
   "cell_type": "code",
   "execution_count": 10,
   "metadata": {},
   "outputs": [],
   "source": [
    "import faiss\n",
    "import sys\n",
    "\n",
    "sys.path.append(\"/private/home/marialomeli/faiss_improvements/offline_ivf/\")\n",
    "from utils import load_config\n",
    "from dataset import create_dataset_from_oivf_config\n",
    "import numpy as np\n",
    "class Object(object):\n",
    "    pass\n",
    "class Knn():\n",
    "    def __init__(self):\n",
    "        ngpu=faiss.get_num_gpus()\n",
    "        self.all_gpu_resources = [faiss.StandardGpuResources() for _ in range(ngpu)]\n",
    "    def _knn_function(self,xq, xb, k, metric, thread_id=None):\n",
    "        \"\"\"\n",
    "        knn GPU method\n",
    "        \"\"\"\n",
    "        try:\n",
    "            # print(f\"knn_function: {xq.shape}, {xb.shape}\")\n",
    "            if xq.shape[0] > 131_072 or xb.shape[0] > 1_048_576:\n",
    "                return self._knn_safe(thread_id, xq, xb, k, metric=metric)\n",
    "            else:\n",
    "                return faiss.knn_gpu(\n",
    "                    self.all_gpu_resources[thread_id],\n",
    "                    xq,\n",
    "                    xb,\n",
    "                    k,\n",
    "                    metric=metric,\n",
    "                    device=thread_id,\n",
    "                )\n",
    "        except:\n",
    "            print(f\"knn_function failed: {xq.shape}, {xb.shape}\")\n",
    "            raise\n",
    "\n",
    "    def _knn_safe(self,thread_id, xq, xb, k, metric):\n",
    "            print(f\"knn_safe: {xq.shape}, {xb.shape}\")\n",
    "            nq, d = xq.shape\n",
    "            keep_max = faiss.is_similarity_metric(metric)\n",
    "            rh = faiss.ResultHeap(nq, k, keep_max=keep_max)\n",
    "            index = faiss.IndexFlat(d, metric)\n",
    "            index = faiss.index_cpu_to_gpu(self.all_gpu_resources[thread_id], thread_id, index)\n",
    "            bs = 1_048_576\n",
    "            for xbi in range(0, xb.shape[0], bs):\n",
    "                xbs = xb[xbi : xbi + bs]\n",
    "                index.add(xbs)\n",
    "                D, I = index.search(xq, k)\n",
    "                I += xbi\n",
    "                rh.add_result(D, I)\n",
    "                index.reset()\n",
    "            rh.finalize()\n",
    "            return rh.D, rh.I\n",
    "        \n",
    "        \n",
    "cfg = load_config(\"/private/home/marialomeli/faiss_improvements/offline_ivf\" + \"/config_sonar.yaml\")\n",
    "self = Object()\n",
    "self.root = '/checkpoint/gsz/seamless/sonar/glg'\n",
    "self.eval_dir = self.root + \"/glg_in_glg/knn\"\n",
    "self.index_factory_fn = cfg[\"index\"][\"prod\"]\n",
    "self.nprobe = cfg[\"nprobe\"][\"prod\"]\n",
    "self.k = cfg[\"k\"]\n",
    "self.metric = faiss.METRIC_L2\n",
    "index=faiss.read_index(\"/checkpoint/marialomeli/offline_faiss/seamless/sonar/glg/IVF32768_PQ512.shard_0\",faiss.IO_FLAG_MMAP | faiss.IO_FLAG_READ_ONLY)\n",
    "self.xb_ds = create_dataset_from_oivf_config(cfg,\"glg\")\n",
    "self.xq_ds = self.xb_ds\n",
    "\n",
    "knn=Knn()\n",
    "self._knn_function=knn._knn_function(\n",
    "    np.zeros((10, 10), dtype=\"float32\"),\n",
    "    np.zeros((10, 10), dtype=\"float32\"),\n",
    "    self.k,\n",
    "    metric=self.metric,\n",
    "    thread_id=0,\n",
    ")"
   ]
  },
  {
   "cell_type": "code",
   "execution_count": 6,
   "metadata": {},
   "outputs": [
    {
     "data": {
      "text/plain": [
       "128"
      ]
     },
     "execution_count": 6,
     "metadata": {},
     "output_type": "execute_result"
    }
   ],
   "source": [
    "self.nprobe[0]"
   ]
  },
  {
   "cell_type": "code",
   "execution_count": 11,
   "metadata": {},
   "outputs": [
    {
     "name": "stdout",
     "output_type": "stream",
     "text": [
      "processing: encf.000.glg...\n",
      "memory: queries 40960000 assign 40000 result 1920000 total 42920000 = 0.040 GiB\n",
      "  number of -1s: 0\n",
      "bucket sort: 0.015 s\n",
      "[145.9 s] list 4128/32768 times prep q 0.354 prep b 226.539 comp 7.020 res 0.271 wait 137.931\r"
     ]
    }
   ],
   "source": [
    "from faiss.contrib.ivf_tools import big_batch_search\n",
    "dq_iterator=self.xq_ds.iterate(0, 10_000, np.float32) \n",
    "xq_i=next(dq_iterator)\n",
    "D,I=index.search(xq_i,self.k)\n",
    "index_ivf = faiss.downcast_index(faiss.extract_index_ivf(index))\n",
    "q_assign = _coarse_quantize(index_ivf, xq_i, self.nprobe[0])\n",
    "D_bbs, I_bbs = big_batch_search(\n",
    "                        index_ivf,\n",
    "                        xq_i,\n",
    "                        self.k,\n",
    "                        verbose=10,\n",
    "                        method=\"knn_function\",\n",
    "                        knn=knn._knn_function,\n",
    "                        threaded=faiss.get_num_gpus() * 8,\n",
    "                        use_float16=True,\n",
    "                        prefetch_threads=faiss.get_num_gpus(),\n",
    "                        computation_threads=faiss.get_num_gpus(),\n",
    "                        q_assign=q_assign,\n",
    "                    )\n",
    "#1 big batch of 50,000,000 vectors check results"
   ]
  },
  {
   "cell_type": "code",
   "execution_count": 17,
   "metadata": {},
   "outputs": [
    {
     "name": "stdout",
     "output_type": "stream",
     "text": [
      "['/checkpoint/marialomeli/offline_faiss/seamless/sonar/glg_in_glg/knn/I0000000000_IVF32768_PQ512_np128.npy', '/checkpoint/marialomeli/offline_faiss/seamless/sonar/glg_in_glg/knn/I0020000000_IVF32768_PQ512_np128.npy', '/checkpoint/marialomeli/offline_faiss/seamless/sonar/glg_in_glg/knn/I0040000000_IVF32768_PQ512_np128.npy', '/checkpoint/marialomeli/offline_faiss/seamless/sonar/glg_in_glg/knn/I0060000000_IVF32768_PQ512_np128.npy', '/checkpoint/marialomeli/offline_faiss/seamless/sonar/glg_in_glg/knn/I0080000000_IVF32768_PQ512_np128.npy', '/checkpoint/marialomeli/offline_faiss/seamless/sonar/glg_in_glg/knn/I0100000000_IVF32768_PQ512_np128.npy', '/checkpoint/marialomeli/offline_faiss/seamless/sonar/glg_in_glg/knn/I0120000000_IVF32768_PQ512_np128.npy', '/checkpoint/marialomeli/offline_faiss/seamless/sonar/glg_in_glg/knn/I0140000000_IVF32768_PQ512_np128.npy', '/checkpoint/marialomeli/offline_faiss/seamless/sonar/glg_in_glg/knn/I0160000000_IVF32768_PQ512_np128.npy', '/checkpoint/marialomeli/offline_faiss/seamless/sonar/glg_in_glg/knn/I0180000000_IVF32768_PQ512_np128.npy']\n"
     ]
    }
   ],
   "source": [
    "import glob\n",
    "path=\"/checkpoint/marialomeli/offline_faiss/seamless/sonar/glg_in_glg/knn\"\n",
    "I_files=glob.glob(path+\"/I*\")\n",
    "print(sorted(I_files))"
   ]
  },
  {
   "cell_type": "code",
   "execution_count": null,
   "metadata": {},
   "outputs": [],
   "source": [
    "#batch_size>file_size\n",
    "num_split_files_per_batch = batch_size//file_size\n",
    "if batch_size%file_size!=0:\n",
    "    num_split_files_per_batch +=1\n",
    "split_positions = [file_size0,file_size0+file_size1]\n",
    "I_all = np.array_split(I,split_positions) #splits in 3, file_size0,filesize1 and batch_size-file_size if remainder\n",
    "# save remainder and handle the case when we need to stack it, then the split_positions are offset by this :("
   ]
  },
  {
   "cell_type": "code",
   "execution_count": 57,
   "metadata": {},
   "outputs": [
    {
     "name": "stdout",
     "output_type": "stream",
     "text": [
      "split_npy_files\n"
     ]
    }
   ],
   "source": [
    "import os\n",
    "print(\"split_npy_files\")\n",
    "def split_merge_files(I_files,output_file_sizes,xq_bs,k):\n",
    "\n",
    "    num_input_files = len(I_files)\n",
    "    total_input_size = num_input_files*xq_bs #only if there is no leftover\n",
    "    total_output_size = sum(output_file_sizes)\n",
    "\n",
    "    if total_input_size > total_output_size:\n",
    "        I_last_file = np.load(I_files[num_input_files-1])\n",
    "        remainder = total_output_size - (num_input_files-1)*xq_bs\n",
    "        print(\"assertion\",remainder == I_last_file.shape[0])\n",
    "        assert remainder == I_last_file.shape[0],f\"the total input and output sizes do not match:{total_input_size-xq_bs+I_last_file.shape[0]},{total_output_size}\"\n",
    "    else:\n",
    "        assert total_input_size == total_output_size, f\"the total input and output sizes do not match:{total_input_size},{total_output_size}\"\n",
    "    # D_files = sorted([f\"{self.knn_dir}/D_approx{(i):010}_{self.knn_output_file_suffix}\" for i in range(0, self.xq_ds.size, self.xq_bs)])\n",
    "    output_files = []\n",
    "\n",
    "    current_input_file_index = 0\n",
    "    current_input_file_offset = 0\n",
    "    for jj, current_output_file_size in enumerate(output_file_sizes):\n",
    "        output_file = np.empty((0, k))\n",
    "        while output_file.shape[0] < current_output_file_size:\n",
    "            still_need = current_output_file_size - output_file.shape[0]\n",
    "            I_current_file = np.load(I_files[current_input_file_index])\n",
    "            max_we_can_read_from_current_input = min(\n",
    "                I_current_file.shape[0], current_input_file_offset + still_need\n",
    "            )\n",
    "            input_chunk = I_current_file[current_input_file_offset:max_we_can_read_from_current_input,]\n",
    "            output_file = np.vstack([output_file, input_chunk])\n",
    "            current_input_file_offset = max_we_can_read_from_current_input\n",
    "            if current_input_file_offset == I_current_file.shape[0]:\n",
    "                current_input_file_index += 1\n",
    "                current_input_file_offset = 0\n",
    "        output_files.append(output_file)\n",
    "        np.save(f\"I_output_split_{jj}\", output_file)\n",
    "    return output_files"
   ]
  },
  {
   "cell_type": "code",
   "execution_count": 58,
   "metadata": {},
   "outputs": [
    {
     "name": "stdout",
     "output_type": "stream",
     "text": [
      "1435\n",
      "['/private/home/marialomeli/faiss_improvements/offline_ivf/notebooks/I_input0000000000.npy', '/private/home/marialomeli/faiss_improvements/offline_ivf/notebooks/I_input0000000001.npy']\n",
      "assertion True\n"
     ]
    }
   ],
   "source": [
    "import numpy as np\n",
    "import glob\n",
    "k = 10\n",
    "output_file_sizes = [123, 543, 620, 149]\n",
    "print(sum(output_file_sizes))\n",
    "batch_size = 1000\n",
    "input_files = [np.random.rand(batch_size, k), np.random.rand(435, k)]\n",
    "for jj,file in enumerate(input_files):\n",
    "    np.save(f\"I_input{(jj):010}\",file)\n",
    "wkdir = os.getcwd()\n",
    "I_files = sorted(glob.glob(wkdir + \"/I_input*\"))\n",
    "print(I_files) \n",
    "#I_files = [np.load(file) for ]\n",
    "out = split_merge_files(I_files,output_file_sizes,batch_size,k)\n"
   ]
  }
 ],
 "metadata": {
  "kernelspec": {
   "display_name": "Python 3.10.11 64-bit ('oivf')",
   "language": "python",
   "name": "python3"
  },
  "language_info": {
   "codemirror_mode": {
    "name": "ipython",
    "version": 3
   },
   "file_extension": ".py",
   "mimetype": "text/x-python",
   "name": "python",
   "nbconvert_exporter": "python",
   "pygments_lexer": "ipython3",
   "version": "3.10.11"
  },
  "orig_nbformat": 4,
  "vscode": {
   "interpreter": {
    "hash": "1e91759c4c710c9a4da508991de94b5ad8f6818604e6203c49e9cb7f21d9121a"
   }
  }
 },
 "nbformat": 4,
 "nbformat_minor": 2
}
