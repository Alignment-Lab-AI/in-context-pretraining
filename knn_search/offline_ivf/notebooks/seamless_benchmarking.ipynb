{
 "cells": [
  {
   "cell_type": "code",
   "execution_count": 48,
   "metadata": {},
   "outputs": [],
   "source": [
    "import numpy as np\n",
    "import os\n",
    "\n",
    "\n",
    "def read_query_embeddings(fp, d, dt):\n",
    "    fl = os.path.getsize(fp)\n",
    "    nb = fl // d // dt.itemsize\n",
    "    assert fl == d * dt.itemsize * nb  # no header\n",
    "    return np.memmap(fp, shape=(nb, d), dtype=dt, mode=\"r\")"
   ]
  },
  {
   "cell_type": "code",
   "execution_count": 4,
   "metadata": {},
   "outputs": [
    {
     "name": "stdout",
     "output_type": "stream",
     "text": [
      "data\n"
     ]
    },
    {
     "data": {
      "text/plain": [
       "(49981077, 1024)"
      ]
     },
     "execution_count": 4,
     "metadata": {},
     "output_type": "execute_result"
    }
   ],
   "source": [
    "import numpy as np\n",
    "import magic\n",
    "import os\n",
    "\n",
    "# files from 000 to 074\n",
    "text_file = \"/fsx-nllb/schwenk/mini-mine5/sent-segm.22h1/mm5_p5.text.eng0.000.gz\"\n",
    "embeddings_file = \"/fsx-nllb-big/schwenk/mini-mine5/embed.22h1/mm5_p5.encf.000.eng0\"\n",
    "print(magic.from_file(embeddings_file))  # type of file\n",
    "fl = os.path.getsize(embeddings_file)\n",
    "fl / 1024\n",
    "d = 1024\n",
    "dt = np.dtype(np.float16)\n",
    "# memory map the embeddings instead of loading them\n",
    "emb = read_query_embeddings(embeddings_file, d, dt)\n",
    "emb.shape"
   ]
  },
  {
   "cell_type": "code",
   "execution_count": null,
   "metadata": {},
   "outputs": [],
   "source": [
    "# index search specification in file /fsx-nllb-big/schwenk/mini-mine5/script/mm5-mine.sh\n",
    "index_type = \"OPQ64,IVFauto,PQ64\"\n",
    "nprobe = 128\n",
    "knn = 16\n",
    "margin_norm = \"mean\"\n",
    "# margin_norm=\"last\"\n",
    "# d=1024\n",
    "# fp16\n",
    "# cosine similarity: build an index with MIP metric, and normalise the database and query vectors with faiss.normalize_L2() before adding them"
   ]
  },
  {
   "cell_type": "code",
   "execution_count": null,
   "metadata": {},
   "outputs": [],
   "source": [
    "import magic\n",
    "import faiss\n",
    "\n",
    "# OPQ64,IVF262144,PQ64 for Eng, one train file (empty index) and 0-5 indices with data : mm5_p5.OPQ64,IVF262144,PQ64.eng0.data.idx, ... , mm5_p5.OPQ64,IVF262144,PQ64.eng5.data.idx\n",
    "indexdatapath = \"/fsx-nllb-big/schwenk/mini-mine5/index.22h1/mm5_p5.OPQ64,IVF262144,PQ64.eng0.data.idx\"\n",
    "indexpath = \"/fsx-nllb-big/schwenk/mini-mine5/index.22h1/mm5_p5.OPQ64,IVF262144,PQ64.eng.train.idx\"\n",
    "magic.from_file(indexdatapath)\n",
    "\n",
    "os.path.getsize(indexpath)\n",
    "os.path.getsize(indexdatapath)\n",
    "index = faiss.read_index(indexdatapath, faiss.IO_FLAG_MMAP)\n",
    "index.ntotal"
   ]
  },
  {
   "cell_type": "code",
   "execution_count": 1,
   "metadata": {},
   "outputs": [],
   "source": [
    "# Files where NLLB built their indexes in https://github.com/fairinternal/nllb/blob/main/stopes/modules/bitext/indexing/populate_faiss_index.py#L289\n",
    "import numpy as np\n",
    "\n",
    "# create test_data with padding in name\n",
    "# synthetic data for toy example\n",
    "root = \"/checkpoint/marialomeli/offline_faiss/notebook_data\"\n",
    "dimension = 1024  # dimensions of each vector\n",
    "n = 100000  # number of vectors\n",
    "for i in range(2):\n",
    "    np.random.seed(i)\n",
    "    db_vectors = np.random.random((n, dimension)).astype(\"float32\")\n",
    "    filename = root + f\"/my_data{i:02}\" + \".npy\"\n",
    "    print(filename)\n",
    "    np.save(filename, db_vectors)"
   ]
  },
  {
   "cell_type": "code",
   "execution_count": 7,
   "metadata": {},
   "outputs": [
    {
     "name": "stdout",
     "output_type": "stream",
     "text": [
      "processing: my_data00.npy...\n",
      "processing: my_data01.npy...\n"
     ]
    },
    {
     "data": {
      "text/plain": [
       "array([[153533, 137037,  76294, 168146,  49402],\n",
       "       [162864,  73532, 139046,  80387,  39155],\n",
       "       [147019,  82451, 122784, 111552, 182277],\n",
       "       [122606,   3653,  90046,  21803, 192614],\n",
       "       [ 94371,  13212,  51721,  44944,  89895],\n",
       "       [193542,  40921, 121298, 126615, 121670],\n",
       "       [183514,  40835, 116571,  48067,  41249],\n",
       "       [123010, 193542,  74027,  46896,  92839],\n",
       "       [157735,  99249,  12692,  77095,   6906],\n",
       "       [143567,  44240,  57692, 183495,  28970]])"
      ]
     },
     "execution_count": 7,
     "metadata": {},
     "output_type": "execute_result"
    }
   ],
   "source": [
    "from faiss.contrib.exhaustive_search import knn_ground_truth\n",
    "import sys\n",
    "import faiss\n",
    "import numpy as np\n",
    "\n",
    "sys.path.append(\"/data/home/marialomeli/faiss_improvements/offline_ivf/\")\n",
    "from utils import iterate_input, load_config\n",
    "\n",
    "queries_file = \"/fsx-nllb-big/schwenk/mini-mine5/embed.22h1/mm5_p5.encf.000.eng3\"\n",
    "d = 1024\n",
    "dt = np.dtype(np.float16)\n",
    "all_queries = read_query_embeddings(queries_file, d, dt)\n",
    "query_vectors = all_queries[\n",
    "    0:10,\n",
    "].astype(np.float32)\n",
    "faiss.normalize_L2(query_vectors)\n",
    "config = load_config(\"/data/home/marialomeli/faiss_improvements/offline_ivf/config_notebook.yaml\")\n",
    "config_for_dataset = config[\"datasets\"][\"my_test_data\"]\n",
    "embeddings_bs = 50000\n",
    "db_iterator = iterate_input(config_for_dataset, embeddings_bs, d, True)\n",
    "D, I = knn_ground_truth(query_vectors, db_iterator, config[\"k\"], metric_type=faiss.METRIC_INNER_PRODUCT)\n",
    "\n",
    "I"
   ]
  },
  {
   "cell_type": "code",
   "execution_count": 9,
   "metadata": {},
   "outputs": [
    {
     "data": {
      "text/plain": [
       "False"
      ]
     },
     "execution_count": 9,
     "metadata": {},
     "output_type": "execute_result"
    }
   ],
   "source": [
    "# Toy example\n",
    "from faiss.contrib.evaluation import knn_intersection_measure\n",
    "import sys\n",
    "\n",
    "sys.path.append(\"/data/home/marialomeli/faiss_improvements/offline_ivf/\")\n",
    "from utils import compute_recalls_at\n",
    "\n",
    "idx_str = config[\"index\"]\n",
    "d = config[\"d\"]\n",
    "index = faiss.index_factory(d, idx_str)\n",
    "index.nprobe = config[\"nprobe\"]\n",
    "config_for_dataset = config[\"datasets\"][\"my_test_data\"]\n",
    "embeddings_bs = 50000\n",
    "db_iterator = iterate_input(config_for_dataset, embeddings_bs, d, True)\n",
    "all_data = []\n",
    "for xbi in db_iterator:\n",
    "    all_data(xbi)\n",
    "index.train(all_data[0])\n",
    "for data in all_data:\n",
    "    index.add(data)\n",
    "I, D = index.search(query_vectors, config[\"k\"])\n",
    "# knn_intersection_measure(I, I1)\n",
    "# compute_recalls_at(I1, I, 1, 5)"
   ]
  },
  {
   "cell_type": "code",
   "execution_count": 1,
   "metadata": {},
   "outputs": [
    {
     "data": {
      "text/plain": [
       "array([1758956109, 2056088817,   62256939, 2578129083, 3651003285,\n",
       "       2700622931, 3385624923, 1587849508, 3695874821, 1908539966,\n",
       "       3072515321, 3182456442, 3600190096, 1298444975,  629240733,\n",
       "        275486473])"
      ]
     },
     "execution_count": 1,
     "metadata": {},
     "output_type": "execute_result"
    }
   ],
   "source": [
    "# compute intersection measure for the ground truth\n",
    "import numpy as np\n",
    "from faiss.contrib.evaluation import knn_intersection_measure\n",
    "\n",
    "res = \"/checkpoint/marialomeli/offline_faiss/seamless/groundtruth_eng_0/I_16.npy\"\n",
    "I_gt = np.load(res)\n",
    "I_gt[0, :]"
   ]
  },
  {
   "cell_type": "code",
   "execution_count": 49,
   "metadata": {},
   "outputs": [
    {
     "name": "stdout",
     "output_type": "stream",
     "text": [
      "3748056364\n",
      "1024\n"
     ]
    }
   ],
   "source": [
    "# load the NLLB ENG0 index\n",
    "\n",
    "import faiss\n",
    "import numpy as np\n",
    "import sys\n",
    "\n",
    "sys.path.append(\"/data/home/marialomeli/faiss_improvements/offline_ivf/\")\n",
    "from utils import iterate_input, load_config\n",
    "\n",
    "indexdatapath = \"/fsx-nllb-big/schwenk/mini-mine5/index.22h1/mm5_p5.OPQ64,IVF262144,PQ64.eng0.data.idx\"\n",
    "index = faiss.read_index(indexdatapath, faiss.IO_FLAG_MMAP)\n",
    "print(index.ntotal)\n",
    "print(index.d)\n",
    "cfg = load_config(\"/data/home/marialomeli/faiss_improvements/offline_ivf/config_seamless.yaml\")\n",
    "queries_file = \"/fsx-nllb-big/schwenk/mini-mine5/embed.22h1/mm5_p5.encf.000.eng3\"\n",
    "d = cfg[\"d\"]\n",
    "dt = np.dtype(np.float16)\n",
    "all_queries = read_query_embeddings(queries_file, d, dt)\n",
    "query_vectors = all_queries[0:1000].astype(np.float32)\n",
    "faiss.normalize_L2(query_vectors)"
   ]
  },
  {
   "cell_type": "code",
   "execution_count": 50,
   "metadata": {},
   "outputs": [],
   "source": [
    "def get_intersection_cardinality_frequencies(I):\n",
    "    nq = I.shape[0]\n",
    "    res = []\n",
    "    for ell in range(nq):\n",
    "        res.append(len(np.intersect1d(I[ell, :], I_gt[ell, :])))\n",
    "    values, counts = np.unique(res, return_counts=True)\n",
    "    return values, counts"
   ]
  },
  {
   "cell_type": "code",
   "execution_count": 51,
   "metadata": {},
   "outputs": [
    {
     "name": "stdout",
     "output_type": "stream",
     "text": [
      "[ 0  1  2  3  4  5  6  7  8 10] [822 102  35  12  14   9   2   1   2   1] <class 'numpy.ndarray'>\n"
     ]
    }
   ],
   "source": [
    "import numpy as np\n",
    "import faiss\n",
    "\n",
    "index_ivf = faiss.extract_index_ivf(index)\n",
    "index_ivf.nprobe = 128\n",
    "k = 16\n",
    "D, I = index.search(query_vectors, k)\n",
    "# knn_intersection_measure(I_gt, I)\n",
    "val, counts = get_intersection_cardinality_frequencies(I)\n",
    "print(val, counts, type(val))"
   ]
  },
  {
   "cell_type": "code",
   "execution_count": 61,
   "metadata": {},
   "outputs": [],
   "source": [
    "np.save(\"freqs\", dict(zip(val, counts)))"
   ]
  },
  {
   "cell_type": "code",
   "execution_count": 36,
   "metadata": {},
   "outputs": [
    {
     "name": "stdout",
     "output_type": "stream",
     "text": [
      "0.022125\n"
     ]
    },
    {
     "data": {
      "text/plain": [
       "(array([ 0,  1,  2,  3,  4,  5,  6,  7,  8, 10]),\n",
       " array([822, 102,  35,  12,  14,   9,   2,   1,   2,   1]))"
      ]
     },
     "execution_count": 36,
     "metadata": {},
     "output_type": "execute_result"
    }
   ],
   "source": [
    "import numpy as np\n",
    "\n",
    "faiss.extract_index_ivf(index).nprobe = 128\n",
    "k = 16\n",
    "D, I = index.search(query_vectors, k)\n",
    "print(knn_intersection_measure(I_gt, I))\n",
    "get_intersection_cardinality_frequencies(I)"
   ]
  },
  {
   "cell_type": "code",
   "execution_count": 45,
   "metadata": {},
   "outputs": [
    {
     "name": "stdout",
     "output_type": "stream",
     "text": [
      "0.0230625\n"
     ]
    },
    {
     "data": {
      "text/plain": [
       "(array([0, 1, 2, 3, 4, 5, 6, 7, 8, 9]),\n",
       " array([814, 108,  36,  12,  13,   9,   4,   1,   2,   1]))"
      ]
     },
     "execution_count": 45,
     "metadata": {},
     "output_type": "execute_result"
    }
   ],
   "source": [
    "import numpy as np\n",
    "\n",
    "faiss.extract_index_ivf(index).nprobe = 1280\n",
    "k = 16\n",
    "D, I = index.search(query_vectors, k)\n",
    "print(knn_intersection_measure(I_gt, I))\n",
    "get_intersection_cardinality_frequencies(I)"
   ]
  },
  {
   "cell_type": "code",
   "execution_count": null,
   "metadata": {},
   "outputs": [],
   "source": [
    "index_ivf = faiss.extract_index_ivf(index)\n",
    "index_ivf.nlist"
   ]
  },
  {
   "cell_type": "code",
   "execution_count": 37,
   "metadata": {},
   "outputs": [
    {
     "data": {
      "text/plain": [
       "14297.70036315918"
      ]
     },
     "execution_count": 37,
     "metadata": {},
     "output_type": "execute_result"
    }
   ],
   "source": [
    "# number of centroids\n",
    "3748056364 / 262144"
   ]
  },
  {
   "cell_type": "code",
   "execution_count": 38,
   "metadata": {},
   "outputs": [
    {
     "data": {
      "text/plain": [
       "61221.371791229896"
      ]
     },
     "execution_count": 38,
     "metadata": {},
     "output_type": "execute_result"
    }
   ],
   "source": [
    "math.sqrt(3748056364)"
   ]
  },
  {
   "cell_type": "code",
   "execution_count": 40,
   "metadata": {},
   "outputs": [
    {
     "data": {
      "text/plain": [
       "244884"
      ]
     },
     "execution_count": 40,
     "metadata": {},
     "output_type": "execute_result"
    }
   ],
   "source": [
    "4 * 61221"
   ]
  },
  {
   "cell_type": "code",
   "execution_count": 46,
   "metadata": {},
   "outputs": [
    {
     "data": {
      "text/plain": [
       "2048.0"
      ]
     },
     "execution_count": 46,
     "metadata": {},
     "output_type": "execute_result"
    }
   ],
   "source": [
    "262144 / 128"
   ]
  },
  {
   "cell_type": "code",
   "execution_count": null,
   "metadata": {},
   "outputs": [],
   "source": [
    "results = {}\n",
    "results[128] = 0.022125\n",
    "results[1280] = 0.0230625\n",
    "results[3000] = 0.023375"
   ]
  }
 ],
 "metadata": {
  "kernelspec": {
   "display_name": "Python [conda env:oivf_greg]",
   "language": "python",
   "name": "conda-env-oivf_greg-py"
  },
  "language_info": {
   "codemirror_mode": {
    "name": "ipython",
    "version": 3
   },
   "file_extension": ".py",
   "mimetype": "text/x-python",
   "name": "python",
   "nbconvert_exporter": "python",
   "pygments_lexer": "ipython3",
   "version": "3.8.16"
  },
  "vscode": {
   "interpreter": {
    "hash": "ab3ac83b82e3e4df0e4f76c21712342c3083b96bfe62b9ad61770bc198549be9"
   }
  }
 },
 "nbformat": 4,
 "nbformat_minor": 4
}
